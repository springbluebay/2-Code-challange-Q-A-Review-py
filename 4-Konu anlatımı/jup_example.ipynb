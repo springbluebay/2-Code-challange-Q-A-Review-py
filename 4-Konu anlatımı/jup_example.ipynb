{
 "cells": [
  {
   "cell_type": "code",
   "execution_count": null,
   "metadata": {},
   "outputs": [],
   "source": [
    "#while loop example\n",
    "my_list=[\"a\", \"b\", \"c\", \"d\", \"e\"]\n",
    "a = 0\n",
    "while a < len(my_list):\n",
    "    print('square of {} is : {}'.format(a, a**2))\n",
    "    a+=1"
   ]
  },
  {
   "cell_type": "code",
   "execution_count": null,
   "metadata": {},
   "outputs": [],
   "source": [
    "answer = 44\n",
    "\n",
    "question = 'What number am I thinking of? '\n",
    "print (\"Let's play the guessing game!\")\n",
    "\n",
    "while True:\n",
    "    guess = int(input(question))\n",
    "\n",
    "    if guess < answer:\n",
    "        print('Little higher')\n",
    "    elif guess > answer:\n",
    "        print('Little lower')\n",
    "    else:  # guess == answer\n",
    "        print('Are you a MINDREADER!!!')\n",
    "        break"
   ]
  },
  {
   "cell_type": "code",
   "execution_count": 1,
   "metadata": {},
   "outputs": [
    {
     "output_type": "stream",
     "name": "stdout",
     "text": "Rose\nOrchid\nTulip\n"
    }
   ],
   "source": [
    "#pre-class sorusu\n",
    "flowers = ['Rose', 'Orchid', 'Tulip']\n",
    "count1 = len(flowers)\n",
    "count2 = 0\n",
    "\n",
    "while count1 > 0 :\n",
    "    print(flowers[count2])\n",
    "    count1 -= 1\n",
    "    count2 += 1"
   ]
  },
  {
   "cell_type": "code",
   "execution_count": null,
   "metadata": {},
   "outputs": [],
   "source": [
    "seasons = ['spring', 'summer', 'autumn', 'winter']\n",
    "\n",
    "for season in seasons :\n",
    "    print(season)"
   ]
  },
  {
   "cell_type": "code",
   "execution_count": null,
   "metadata": {},
   "outputs": [],
   "source": [
    "for i in {'n1' : 'one', 'n2' : 'two'} : \n",
    "    print(i)"
   ]
  },
  {
   "cell_type": "code",
   "execution_count": null,
   "metadata": {},
   "outputs": [],
   "source": [
    "n = 8374849958477\n",
    "\n",
    "new = list(str(n))[::-1]\n",
    "new\n"
   ]
  },
  {
   "cell_type": "code",
   "execution_count": null,
   "metadata": {},
   "outputs": [],
   "source": [
    "#copy() metodu 14.04.2020\n",
    " old = [1,2,3]\n",
    " new = old\n",
    "\n",
    " new.append(\"a\")\n",
    " print(new)\n",
    " print(old)"
   ]
  },
  {
   "cell_type": "code",
   "execution_count": null,
   "metadata": {},
   "outputs": [],
   "source": [
    "list1=['cat', 0, 6.7]\n",
    "newlist=list1.copy()\n",
    "\n",
    "newlist.append(\"dog\")\n",
    "\n",
    "print(list1)\n",
    "newlist\n"
   ]
  },
  {
   "cell_type": "code",
   "execution_count": null,
   "metadata": {},
   "outputs": [],
   "source": [
    "# extend() metodu(tuple ve set lerde kullanabilirsiniz)(iterrable değer alır içine)\n",
    "language=['French','English','German']\n",
    "\n",
    "language1=[\"Spanish\",\"Turkish\"]\n",
    "\n",
    "language.extend(language1)\n",
    "\n",
    "print(language)"
   ]
  },
  {
   "cell_type": "code",
   "execution_count": null,
   "metadata": {},
   "outputs": [],
   "source": [
    "#count()\n",
    "random_list = ['a', ('a', 'b'), ('a','b'), [3, 4]]\n",
    "random_list.count('a')\n",
    "print(random_list.count('a'))\n",
    "random_list.count(('a','b'))\n",
    ""
   ]
  },
  {
   "cell_type": "code",
   "execution_count": null,
   "metadata": {},
   "outputs": [],
   "source": [
    "#pop()-(sonuncu elemanı çıkarıyor boş olunca)\n",
    "lang = ['Python', 'Java', 'C++', 'French', 'C', 4]\n",
    "\n",
    "lang.pop(3)\n",
    "print(lang)\n",
    "\n",
    "return_value = lang.pop(3) #çıkarılan değerleri başka bir liste altında döngülerle toplayabiliriz\n",
    "print(return_value)\n"
   ]
  },
  {
   "cell_type": "code",
   "execution_count": null,
   "metadata": {},
   "outputs": [],
   "source": [
    "#assignment-5\n",
    "year = int(input(\"dört rakamlı bir yıl giriniz : \"))\n",
    "\n",
    "#year'ın 4 e tam bölünmesi gerekiyor.\n",
    "#hem 100'e bölünecek hemde 400'e bölünecek\n",
    "leap = (year % 4 == 0) and ((year % 400 == 0) and (year % 100 == 0))\n",
    "print(leap)"
   ]
  },
  {
   "cell_type": "code",
   "execution_count": null,
   "metadata": {},
   "outputs": [],
   "source": [
    "year = int(input(\"dört rakamlı bir yıl giriniz :\"))\n",
    "\n",
    "leap = bool(not (year % 4) and (not(year % 400) or (year % 100))) \n",
    "\n",
    "print(leap)"
   ]
  },
  {
   "cell_type": "code",
   "execution_count": null,
   "metadata": {},
   "outputs": [],
   "source": [
    "# armageddon\n",
    "# 153 : 1*1*1 + 5*5*5 + 3*3*3\n",
    "# 407 : 4*4*4 + 0*0*0 + 7*7*7\n",
    "\n",
    "arm_num"
   ]
  },
  {
   "cell_type": "code",
   "execution_count": null,
   "metadata": {},
   "outputs": [],
   "source": [
    "#for loop\n",
    "n = int(input('enter a number between 1-10'))\n",
    "\n",
    "for i in range(11):\n",
    "    print('%d x %d = '%(n, i), n*i) # \"d\" numeric sayı yerine geçer"
   ]
  },
  {
   "cell_type": "code",
   "execution_count": null,
   "metadata": {},
   "outputs": [],
   "source": [
    "text = ['one','two','three','four','five']\n",
    "numbers = [1, 2, 3, 4, 5]\n",
    "for x, y in zip(text, numbers):\n",
    "    print(x, ':', y)"
   ]
  },
  {
   "cell_type": "code",
   "execution_count": null,
   "metadata": {},
   "outputs": [],
   "source": [
    "#Control Flow Statements// Check Yourself-1//Question 6\n",
    "saved_amount = int(input('Please enter your saved amount: '))\n",
    "ps4_price = 200\n",
    "\n",
    "if saved_amount <= ps4_price/2 :\n",
    "    print(\"You must save more, keep saving\")\n",
    "elif saved_amount > ps4_price/2 and saved_amount < ps4_price :\n",
    "    print(\"You saved more than half, keep saving!\")\n",
    "elif saved_amount => ps4_price :\n",
    "    print(\"Yippee! You can buy your PS4\")"
   ]
  },
  {
   "cell_type": "code",
   "execution_count": null,
   "metadata": {},
   "outputs": [],
   "source": [
    "#Control Flow Statements// Check Yourself-1//Question 7\n",
    "math_mark = int(input('Please enter the mark: '))\n",
    "\n",
    "if math_mark >= 85 and math_mark <=100 :\n",
    "    print('A (Excellent)')\n",
    "elif math_mark >= 70 and math_mark <85 :\n",
    "    print('B (Good)')\n",
    "elif math_mark >= 60 and math_mark <70 :\n",
    "    print('C (Medium)')\n",
    "elif math_mark >= 45 and math_mark <60 :\n",
    "    print('D (Not Bad)')\n",
    "else :\n",
    "    print('F (Failed)')"
   ]
  },
  {
   "cell_type": "code",
   "execution_count": null,
   "metadata": {},
   "outputs": [],
   "source": [
    "num=[1,2,0,1,4,5,7,2,8,2,2]\n",
    "\n",
    "num1=num.count(range(num))\n",
    "\n",
    "repeat= max(num, key=num.count)      #burada max fonksiyonuna neye göre max olanlara bakması için \"key\" veriyoruz. O key burada num listesinin en çok tekrarlayanı oluyor. mesela bu satırdan sonra print(repeat) yazarsan en çok tekrarlayan \"2\" yi bulursun\n",
    "how_many=num.count(repeat)           # bunu öğrenmiştik. count içerisine listede geçen/geçmeyen bir şeyi yazıyoruz. o bize parantez içinde yazdığımız şeyin kaç defa bu listede geçtiğini söylüyordu. işte biz burada count içerisine bir üst satırda en çok tekrarlayan şeyi bulmuştuk, değişken olarak onu yazıyoruz, bu örnekte bu repeat değeri \"2\" ama 2 değil \"repeat\" yazmalıyız. bize bu repeat değerinin listede kaç tane olduğunu veriyor.\n",
    "                                     #yani artık en çok tekrarlayanı bulduk, bunu repeat içine attık, en çok tekrarlayanın kaç kere tekrarladığını bulduk bunu how_many değişkeni içine attık. geriye sadece yazdırmak kalıyor. bir arkadaş how_many gibi bir değişken oluşturmadan direk print içine yazmış, 1 satır kazanmıs. o da olur. bu daha kolay anlışılır oluyor.\n",
    "print(f\"bu listede en çok tekrarlayan sayı {repeat}, bu sayı toplamda {how_many} defa tekrarlamış \")\n",
    "                                     #aşağıdaki gibi de yazabiliriz.\n",
    "print(\"bu listede en çok tekrarlayan sayı {}, bu sayı toplamda {} defa tekrarlamış\".format(repeat,how_many) )"
   ]
  },
  {
   "cell_type": "code",
   "execution_count": null,
   "metadata": {},
   "outputs": [],
   "source": [
    "num = [1, 2, 0, 1, 4, 5, 7, 2, 8, 2, 2]\n",
    "\n",
    "item = max(num, key = num.count)\n",
    "repetition = num.count(item)\n",
    "print(\"bu listede en çok tekrarlayan sayı {}, bu sayı toplamda {} defa tekrarlamış\".format(item, repetition))\n",
    "\n",
    "\n",
    "#count()\n",
    "#random_list = ['a', ('a', 'b'), ('a','b'), [3, 4]]\n",
    "#random_list.count('a')\n",
    "#print(random_list.count('a'))\n",
    "#random_list.count(('a','b'))\n",
    ""
   ]
  },
  {
   "cell_type": "code",
   "execution_count": null,
   "metadata": {},
   "outputs": [],
   "source": [
    "points = [1, 4, 2, 9, 7, 8, 9, 3, 1]\n",
    "\n",
    "x = points.count(9)\n",
    "print(x)"
   ]
  },
  {
   "cell_type": "code",
   "execution_count": null,
   "metadata": {},
   "outputs": [],
   "source": [
    "# Assignment - 1 (if-Statements)\n",
    "myname = 'bluebay'\n",
    "username = input('Please enter your name: ')\n",
    "if username == myname:\n",
    "    print(\"Hello,\", myname, \"The password is : @12\")\n",
    "else:\n",
    "    print(\"Hello, Amina! See you later.\")"
   ]
  },
  {
   "cell_type": "code",
   "execution_count": null,
   "metadata": {},
   "outputs": [],
   "source": [
    "number_list =[12, 3, 10, 2, 8]  # sayıları toplayıp ortalamasını alıyoruz\n",
    "\n",
    "print(sum(number_list)/len(number_list))"
   ]
  },
  {
   "cell_type": "code",
   "execution_count": null,
   "metadata": {},
   "outputs": [],
   "source": [
    "toplam=0            #başka cevap\n",
    "\n",
    "for i in number_list:\n",
    "    toplam = i + toplam\n",
    "    \n",
    "print(toplam/len(number_list))"
   ]
  },
  {
   "cell_type": "code",
   "execution_count": null,
   "metadata": {},
   "outputs": [],
   "source": [
    "top1=0\n",
    "\n",
    "for i in range(1,11): # 1 den 11 e kadarki sayıların toplamını verir.\n",
    "        top1 += i\n",
    "\n",
    "top1"
   ]
  },
  {
   "cell_type": "code",
   "execution_count": null,
   "metadata": {},
   "outputs": [],
   "source": [
    "date =\"11/22/2020\"\n",
    "date = date.split(\"/\")\n",
    "print(date)\n",
    "\n",
    "#date1 = date.replace(\"/\", \" \")\n",
    "\n",
    "new_date = \"\".join(date)\n",
    "print(new_date)\n"
   ]
  },
  {
   "cell_type": "code",
   "execution_count": null,
   "metadata": {},
   "outputs": [],
   "source": [
    "date =\"06/25/2020\" #20202506\n",
    "date = date.split(\"/\")\n",
    "new1 = date[2] + date[1] + date[0]\n",
    "new1"
   ]
  },
  {
   "cell_type": "code",
   "execution_count": null,
   "metadata": {},
   "outputs": [],
   "source": [
    "number = input(\"ondalık bir sayı giriniz: \")\n",
    "new = \"\"\n",
    "\n",
    "for i in range(len(number)):\n",
    "    new = new + number[i]\n",
    "\n",
    "    if number[i] == \".\" :\n",
    "        break\n",
    "\n",
    "new = new + number[i+1] + number[i+2]\n",
    "new = float(new)\n",
    "print(new) "
   ]
  },
  {
   "cell_type": "code",
   "execution_count": null,
   "metadata": {},
   "outputs": [],
   "source": [
    "# Assignment - 1 (if-Statements)\n",
    "myname = 'bluebay'\n",
    "username = input('Please enter your name: ')\n",
    "if username == myname:\n",
    "    print(\"Hello, {}! The password is : @12\".format(myname))\n",
    "else:\n",
    "    print(\"Hello, {}! See you later.\".format(username))"
   ]
  },
  {
   "cell_type": "code",
   "execution_count": null,
   "metadata": {},
   "outputs": [],
   "source": [
    "# Assignment - 2 (if-Statements) \n",
    "\n",
    "age = input(\"Are you cigarettte addict older than 75 years old? : (Yes/No)\").title().strip() == \"Yes\"\n",
    "chronic = input (\"Do You have a severe chronic disease? : (Yes/No)\").title().strip() == \"Yes\"\n",
    "immune = input (\"If your immune system too weak? : (Yes/No)\").title().strip() == \"Yes\"\n",
    "\n",
    "print(\"age answer :\", age, \"\\nchronic answer :\", chronic, \"\\nimmune answer :\",immune)\n",
    "\n",
    "if age or chronic or immune:\n",
    "    print(\"you are in the risky group\")\n",
    "else:\n",
    "    print(\"You are not in the risky group\")"
   ]
  },
  {
   "cell_type": "code",
   "execution_count": null,
   "metadata": {},
   "outputs": [],
   "source": [
    "# girilen string den index leri çift olanları göster-diğer yol\n",
    "user_i = input(\"birşeyler giriniz : \")\n",
    "lenuser = len(user_i)\n",
    "for i in range(0,lenuser,2):\n",
    "    print(\"index[\",i,\"]\",user_i[i])\n",
    "\n",
    "\n",
    "\n",
    "number = input(\"please enter a name:\")\n",
    "long =int(len(number))\n",
    "\n",
    "for i in range(0,long):\n",
    "    if i%2 == 0:\n",
    "        print (f\"index [{i}] is :\", number[i])"
   ]
  },
  {
   "cell_type": "code",
   "execution_count": null,
   "metadata": {},
   "outputs": [],
   "source": [
    "#\"\"\"Given a range of first 10 numbers, Iterate from start number to the end number and print the sum of the current number and previous number\"\"\"\n",
    "previousnum = 0\n",
    "for i in range(10):\n",
    "    sum = i + previousnum\n",
    "    print(f\"Current Number {i} Previous Number {previousnum} Sum {sum}\")\n",
    "    previousnum = i\n"
   ]
  },
  {
   "cell_type": "code",
   "execution_count": null,
   "metadata": {},
   "outputs": [],
   "source": [
    "# Write a program that takes a number from the user, assigns it to the variable (number), and prints the squares of all numbers between 0 and the number (not included) entered by the user.   Note: Write the program with while statement.\n",
    "\n",
    "number = int(input('Please enter a number: '))\n",
    "count=number\n",
    "while number != 0 :\n",
    "    toplam = (number-count)**2\n",
    "    count -= 1\n",
    "    print(toplam)\n",
    "    if count == 0:\n",
    "        break\n",
    "        \n",
    "        The type of clarusway is <class 'str'>.\n",
    "    "
   ]
  },
  {
   "cell_type": "code",
   "execution_count": 1,
   "metadata": {},
   "outputs": [
    {
     "output_type": "stream",
     "name": "stdout",
     "text": "The type of {'section': 5, 'topic': 2} is <class 'dict'>\nThe type of clarusway is <class 'str'>\nThe type of [1, 4] is <class 'list'>\nThe type of 2020 is <class 'int'>\nThe type of 3.14 is <class 'float'>\nThe type of (1+618j) is <class 'complex'>\nThe type of False is <class 'bool'>\nThe type of (10, 20) is <class 'tuple'>\n"
    }
   ],
   "source": [
    "# Write a program that prints each item and its corresponding type from the following list. One of the output line as an example: The type of clarusway is <class 'str'>. Note: Write the program with for statement.\n",
    "\n",
    "sample_list = [{\"section\":5, \"topic\":2}, 'clarusway', [1, 4], 2020, 3.14, 1+618j, False, (10, 20)]\n",
    "\n",
    "for i in range(len(sample_list)):\n",
    "    sam = type(sample_list[i])\n",
    "    lis=sample_list[i]\n",
    "    print(f'The type of {lis} is {sam}')"
   ]
  },
  {
   "cell_type": "code",
   "execution_count": 1,
   "metadata": {},
   "outputs": [
    {
     "output_type": "stream",
     "name": "stdout",
     "text": "prprpr\n"
    }
   ],
   "source": [
    "str = 'Python program'\n",
    "print(str[7:9]*3)"
   ]
  },
  {
   "cell_type": "code",
   "execution_count": null,
   "metadata": {},
   "outputs": [],
   "source": []
  },
  {
   "cell_type": "code",
   "execution_count": 5,
   "metadata": {},
   "outputs": [
    {
     "output_type": "stream",
     "name": "stdout",
     "text": "3.4\n<class 'float'>\n4\n"
    }
   ],
   "source": [
    "x = 3.4\n",
    "y = 1\n",
    "print (x) \n",
    "print(type(x))\n",
    "print (int(x) + y)"
   ]
  },
  {
   "cell_type": "code",
   "execution_count": 4,
   "metadata": {},
   "outputs": [],
   "source": [
    "number = 5\n",
    "greater_than_zero = number > 0\n",
    "\n",
    "if greater_than_zero:\n",
    "    if number > 5:\n",
    "        print(number)"
   ]
  },
  {
   "cell_type": "code",
   "execution_count": 5,
   "metadata": {},
   "outputs": [
    {
     "output_type": "stream",
     "name": "stdout",
     "text": "-5\n"
    }
   ],
   "source": [
    "number = 5\n",
    "less_than_zero = number < 0\n",
    "\n",
    "if less_than_zero:\n",
    "    print(number)\n",
    "\n",
    "number = number - 10\n",
    "less_than_zero = number < 0\n",
    "\n",
    "if less_than_zero:\n",
    "    print(number)"
   ]
  },
  {
   "cell_type": "code",
   "execution_count": 6,
   "metadata": {},
   "outputs": [
    {
     "output_type": "stream",
     "name": "stdout",
     "text": "5\n8\n"
    }
   ],
   "source": [
    "number = 5\n",
    "greater_than_zero = number > 0\n",
    "less_than_zero = number < 0\n",
    "\n",
    "if greater_than_zero:\n",
    "    print(number)\n",
    "if less_than_zero:\n",
    "    print(number + 1)\n",
    "if greater_than_zero and less_than_zero:\n",
    "    print(number + 2)\n",
    "if greater_than_zero or less_than_zero:\n",
    "    print(number + 3)"
   ]
  },
  {
   "cell_type": "code",
   "execution_count": 7,
   "metadata": {},
   "outputs": [
    {
     "output_type": "stream",
     "name": "stdout",
     "text": "Almost eligible for Driver's License\n"
    }
   ],
   "source": [
    "above_16 = True\n",
    "has_permit = True\n",
    "passed_test = False\n",
    "\n",
    "if above_16 and has_permit and passed_test:\n",
    "    print(\"Issue Driver's License\")\n",
    "elif above_16 or has_permit or passed_test:\n",
    "    print(\"Almost eligible for Driver's License\")\n",
    "else:\n",
    "    print(\"No requirements met.\")"
   ]
  },
  {
   "cell_type": "code",
   "execution_count": 8,
   "metadata": {},
   "outputs": [
    {
     "output_type": "stream",
     "name": "stdout",
     "text": "1\n4\n5\n"
    }
   ],
   "source": [
    "number_one = 5\n",
    "number_two = 10\n",
    "\n",
    "if number_one == 5:\n",
    "    print(1)\n",
    "if number_one > 5:\n",
    "    print(2)\n",
    "if number_two < 5:\n",
    "    print(3)\n",
    "if number_one < number_two: \n",
    "    print(4)\n",
    "if number_one != number_two:\n",
    "    print(5)"
   ]
  },
  {
   "cell_type": "code",
   "execution_count": 9,
   "metadata": {},
   "outputs": [
    {
     "output_type": "stream",
     "name": "stdout",
     "text": "1\n"
    }
   ],
   "source": [
    "number_one = 5\n",
    "number_two = 10\n",
    "\n",
    "if number_one == 5:\n",
    "    print(1)\n",
    "elif number_one > 5:\n",
    "    print(2)\n",
    "elif number_two < 5:\n",
    "    print(3)\n",
    "elif number_one < number_two: \n",
    "    print(4)\n",
    "elif number_one != number_two:\n",
    "    print(5)\n",
    "else:\n",
    "    print(6)"
   ]
  },
  {
   "cell_type": "code",
   "execution_count": 12,
   "metadata": {},
   "outputs": [
    {
     "output_type": "stream",
     "name": "stdout",
     "text": "You are average height\n"
    }
   ],
   "source": [
    "height = 65\n",
    "gender = \"female\"\n",
    "\n",
    "if height < 62:\n",
    "    print (\"You are below average height\")\n",
    "elif height > 69:\n",
    "    print (\"You are above average height\")\n",
    "else:\n",
    "    print (\"You are average height\")"
   ]
  },
  {
   "cell_type": "code",
   "execution_count": 14,
   "metadata": {},
   "outputs": [
    {
     "output_type": "stream",
     "name": "stdout",
     "text": "You are above average height\n"
    }
   ],
   "source": [
    "height = 65\n",
    "gender = \"female\"\n",
    "\n",
    "if height < 62 or (height < 69 and gender == \"male\"):\n",
    "    print (\"You are below average height\")\n",
    "elif height > 69 or (height > 62 and gender == \"female\"):\n",
    "    print (\"You are above average height\")\n",
    "else:\n",
    "    print (\"You are average height\")"
   ]
  },
  {
   "cell_type": "code",
   "execution_count": 15,
   "metadata": {},
   "outputs": [
    {
     "output_type": "stream",
     "name": "stdout",
     "text": "But green is the color of grass!\nBlue is the best\nBut yellow is the color of school buses!\n"
    }
   ],
   "source": [
    "favorite_color = \"blue\"\n",
    "\n",
    "if favorite_color != \"green\":\n",
    "    print (\"But green is the color of grass!\")\n",
    "if favorite_color == \"red\":\n",
    "    print (\"I like red, too!\")\n",
    "if favorite_color == \"blue\":\n",
    "    print (\"Blue is the best\")\n",
    "if favorite_color != \"yellow\":\n",
    "    print (\"But yellow is the color of school buses!\")"
   ]
  },
  {
   "cell_type": "code",
   "execution_count": 16,
   "metadata": {},
   "outputs": [
    {
     "output_type": "stream",
     "name": "stdout",
     "text": "Must be blue\n"
    }
   ],
   "source": [
    "favorite_color = \"blue\"\n",
    "\n",
    "if favorite_color != \"blue\":\n",
    "    if favorite_color != \"red\":\n",
    "        print (\"Must be yellow\")\n",
    "elif favorite_color == \"blue\":\n",
    "    if favorite_color != \"yellow\":\n",
    "        print (\"Must be blue\")\n",
    "elif favorite_color == \"blue\":\n",
    "    if favorite_color != \"yellow\":\n",
    "        print (\"I like purple\")\n",
    "else:\n",
    "    if favorite_color == \"blue\":\n",
    "        print (\"Blue is the best\")"
   ]
  },
  {
   "cell_type": "code",
   "execution_count": null,
   "metadata": {},
   "outputs": [],
   "source": []
  }
 ],
 "metadata": {
  "language_info": {
   "name": "python",
   "codemirror_mode": {
    "name": "ipython",
    "version": 3
   },
   "version": "3.7.7-final"
  },
  "orig_nbformat": 2,
  "file_extension": ".py",
  "mimetype": "text/x-python",
  "name": "python",
  "npconvert_exporter": "python",
  "pygments_lexer": "ipython3",
  "version": 3,
  "kernelspec": {
   "name": "python3",
   "display_name": "Python 3"
  }
 },
 "nbformat": 4,
 "nbformat_minor": 2
}